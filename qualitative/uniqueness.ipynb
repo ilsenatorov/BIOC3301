{
 "cells": [
  {
   "cell_type": "code",
   "execution_count": 1,
   "metadata": {
    "ExecuteTime": {
     "end_time": "2018-04-26T17:27:54.116375Z",
     "start_time": "2018-04-26T17:27:53.878720Z"
    }
   },
   "outputs": [],
   "source": [
    "import pandas as pd\n",
    "import numpy as np\n",
    "import matplotlib\n",
    "import matplotlib.pyplot as plt\n",
    "%matplotlib inline"
   ]
  },
  {
   "cell_type": "code",
   "execution_count": 2,
   "metadata": {
    "ExecuteTime": {
     "end_time": "2018-04-26T17:27:55.256170Z",
     "start_time": "2018-04-26T17:27:55.226273Z"
    },
    "scrolled": true
   },
   "outputs": [
    {
     "data": {
      "text/html": [
       "<div>\n",
       "<style scoped>\n",
       "    .dataframe tbody tr th:only-of-type {\n",
       "        vertical-align: middle;\n",
       "    }\n",
       "\n",
       "    .dataframe tbody tr th {\n",
       "        vertical-align: top;\n",
       "    }\n",
       "\n",
       "    .dataframe thead th {\n",
       "        text-align: right;\n",
       "    }\n",
       "</style>\n",
       "<table border=\"1\" class=\"dataframe\">\n",
       "  <thead>\n",
       "    <tr style=\"text-align: right;\">\n",
       "      <th></th>\n",
       "      <th>unique</th>\n",
       "      <th>observations</th>\n",
       "      <th>uniqueness</th>\n",
       "    </tr>\n",
       "    <tr>\n",
       "      <th>#SampleID</th>\n",
       "      <th></th>\n",
       "      <th></th>\n",
       "      <th></th>\n",
       "    </tr>\n",
       "  </thead>\n",
       "  <tbody>\n",
       "    <tr>\n",
       "      <th>515rcbc20</th>\n",
       "      <td>348</td>\n",
       "      <td>653.0</td>\n",
       "      <td>53.292496</td>\n",
       "    </tr>\n",
       "    <tr>\n",
       "      <th>515rcbc36</th>\n",
       "      <td>2589</td>\n",
       "      <td>36627.0</td>\n",
       "      <td>7.068556</td>\n",
       "    </tr>\n",
       "    <tr>\n",
       "      <th>515rcbc8</th>\n",
       "      <td>3185</td>\n",
       "      <td>42129.0</td>\n",
       "      <td>7.560113</td>\n",
       "    </tr>\n",
       "    <tr>\n",
       "      <th>515rcbc13</th>\n",
       "      <td>3154</td>\n",
       "      <td>59695.0</td>\n",
       "      <td>5.283525</td>\n",
       "    </tr>\n",
       "    <tr>\n",
       "      <th>515rcbc34</th>\n",
       "      <td>3436</td>\n",
       "      <td>62503.0</td>\n",
       "      <td>5.497336</td>\n",
       "    </tr>\n",
       "    <tr>\n",
       "      <th>515rcbc37</th>\n",
       "      <td>3814</td>\n",
       "      <td>62536.0</td>\n",
       "      <td>6.098887</td>\n",
       "    </tr>\n",
       "    <tr>\n",
       "      <th>515rcbc9</th>\n",
       "      <td>3692</td>\n",
       "      <td>66384.0</td>\n",
       "      <td>5.561581</td>\n",
       "    </tr>\n",
       "    <tr>\n",
       "      <th>515rcbc27</th>\n",
       "      <td>3649</td>\n",
       "      <td>70785.0</td>\n",
       "      <td>5.155047</td>\n",
       "    </tr>\n",
       "    <tr>\n",
       "      <th>515rcbc23</th>\n",
       "      <td>3857</td>\n",
       "      <td>74773.0</td>\n",
       "      <td>5.158279</td>\n",
       "    </tr>\n",
       "    <tr>\n",
       "      <th>515rcbc35</th>\n",
       "      <td>3842</td>\n",
       "      <td>88294.0</td>\n",
       "      <td>4.351372</td>\n",
       "    </tr>\n",
       "    <tr>\n",
       "      <th>515rcbc32</th>\n",
       "      <td>3687</td>\n",
       "      <td>92528.0</td>\n",
       "      <td>3.984740</td>\n",
       "    </tr>\n",
       "    <tr>\n",
       "      <th>515rcbc11</th>\n",
       "      <td>4324</td>\n",
       "      <td>98308.0</td>\n",
       "      <td>4.398421</td>\n",
       "    </tr>\n",
       "    <tr>\n",
       "      <th>515rcbc33</th>\n",
       "      <td>4270</td>\n",
       "      <td>105010.0</td>\n",
       "      <td>4.066279</td>\n",
       "    </tr>\n",
       "    <tr>\n",
       "      <th>515rcbc15</th>\n",
       "      <td>3976</td>\n",
       "      <td>106976.0</td>\n",
       "      <td>3.716722</td>\n",
       "    </tr>\n",
       "    <tr>\n",
       "      <th>515rcbc17</th>\n",
       "      <td>4466</td>\n",
       "      <td>108230.0</td>\n",
       "      <td>4.126397</td>\n",
       "    </tr>\n",
       "    <tr>\n",
       "      <th>515rcbc18</th>\n",
       "      <td>4476</td>\n",
       "      <td>113519.0</td>\n",
       "      <td>3.942952</td>\n",
       "    </tr>\n",
       "    <tr>\n",
       "      <th>515rcbc28</th>\n",
       "      <td>4341</td>\n",
       "      <td>115266.0</td>\n",
       "      <td>3.766072</td>\n",
       "    </tr>\n",
       "    <tr>\n",
       "      <th>515rcbc21</th>\n",
       "      <td>3813</td>\n",
       "      <td>117077.0</td>\n",
       "      <td>3.256831</td>\n",
       "    </tr>\n",
       "    <tr>\n",
       "      <th>515rcbc14</th>\n",
       "      <td>4171</td>\n",
       "      <td>124812.0</td>\n",
       "      <td>3.341826</td>\n",
       "    </tr>\n",
       "    <tr>\n",
       "      <th>515rcbc25</th>\n",
       "      <td>3792</td>\n",
       "      <td>126539.0</td>\n",
       "      <td>2.996705</td>\n",
       "    </tr>\n",
       "    <tr>\n",
       "      <th>515rcbc31</th>\n",
       "      <td>4802</td>\n",
       "      <td>128055.0</td>\n",
       "      <td>3.749951</td>\n",
       "    </tr>\n",
       "    <tr>\n",
       "      <th>515rcbc30</th>\n",
       "      <td>4747</td>\n",
       "      <td>135595.0</td>\n",
       "      <td>3.500867</td>\n",
       "    </tr>\n",
       "    <tr>\n",
       "      <th>515rcbc19</th>\n",
       "      <td>5377</td>\n",
       "      <td>147731.0</td>\n",
       "      <td>3.639724</td>\n",
       "    </tr>\n",
       "    <tr>\n",
       "      <th>515rcbc26</th>\n",
       "      <td>4276</td>\n",
       "      <td>155816.0</td>\n",
       "      <td>2.744262</td>\n",
       "    </tr>\n",
       "    <tr>\n",
       "      <th>515rcbc29</th>\n",
       "      <td>5460</td>\n",
       "      <td>166640.0</td>\n",
       "      <td>3.276524</td>\n",
       "    </tr>\n",
       "    <tr>\n",
       "      <th>515rcbc16</th>\n",
       "      <td>5186</td>\n",
       "      <td>173196.0</td>\n",
       "      <td>2.994295</td>\n",
       "    </tr>\n",
       "    <tr>\n",
       "      <th>515rcbc10</th>\n",
       "      <td>4898</td>\n",
       "      <td>182721.0</td>\n",
       "      <td>2.680590</td>\n",
       "    </tr>\n",
       "    <tr>\n",
       "      <th>515rcbc24</th>\n",
       "      <td>5025</td>\n",
       "      <td>185865.0</td>\n",
       "      <td>2.703575</td>\n",
       "    </tr>\n",
       "    <tr>\n",
       "      <th>515rcbc22</th>\n",
       "      <td>4789</td>\n",
       "      <td>201486.0</td>\n",
       "      <td>2.376840</td>\n",
       "    </tr>\n",
       "    <tr>\n",
       "      <th>515rcbc12</th>\n",
       "      <td>10460</td>\n",
       "      <td>1487480.0</td>\n",
       "      <td>0.703203</td>\n",
       "    </tr>\n",
       "  </tbody>\n",
       "</table>\n",
       "</div>"
      ],
      "text/plain": [
       "           unique  observations  uniqueness\n",
       "#SampleID                                  \n",
       "515rcbc20     348         653.0   53.292496\n",
       "515rcbc36    2589       36627.0    7.068556\n",
       "515rcbc8     3185       42129.0    7.560113\n",
       "515rcbc13    3154       59695.0    5.283525\n",
       "515rcbc34    3436       62503.0    5.497336\n",
       "515rcbc37    3814       62536.0    6.098887\n",
       "515rcbc9     3692       66384.0    5.561581\n",
       "515rcbc27    3649       70785.0    5.155047\n",
       "515rcbc23    3857       74773.0    5.158279\n",
       "515rcbc35    3842       88294.0    4.351372\n",
       "515rcbc32    3687       92528.0    3.984740\n",
       "515rcbc11    4324       98308.0    4.398421\n",
       "515rcbc33    4270      105010.0    4.066279\n",
       "515rcbc15    3976      106976.0    3.716722\n",
       "515rcbc17    4466      108230.0    4.126397\n",
       "515rcbc18    4476      113519.0    3.942952\n",
       "515rcbc28    4341      115266.0    3.766072\n",
       "515rcbc21    3813      117077.0    3.256831\n",
       "515rcbc14    4171      124812.0    3.341826\n",
       "515rcbc25    3792      126539.0    2.996705\n",
       "515rcbc31    4802      128055.0    3.749951\n",
       "515rcbc30    4747      135595.0    3.500867\n",
       "515rcbc19    5377      147731.0    3.639724\n",
       "515rcbc26    4276      155816.0    2.744262\n",
       "515rcbc29    5460      166640.0    3.276524\n",
       "515rcbc16    5186      173196.0    2.994295\n",
       "515rcbc10    4898      182721.0    2.680590\n",
       "515rcbc24    5025      185865.0    2.703575\n",
       "515rcbc22    4789      201486.0    2.376840\n",
       "515rcbc12   10460     1487480.0    0.703203"
      ]
     },
     "execution_count": 2,
     "metadata": {},
     "output_type": "execute_result"
    }
   ],
   "source": [
    "## get data\n",
    "uniq = pd.read_csv('./unique.csv', sep=';', index_col=0)\n",
    "observ = pd.read_csv('./observations.csv', sep=';', index_col=0)\n",
    "df = uniq.join(observ)\n",
    "## calculate stuff\n",
    "df['uniqueness'] = df['unique']*100/df['observations']\n",
    "df.sort_values('observations')"
   ]
  },
  {
   "cell_type": "code",
   "execution_count": 3,
   "metadata": {
    "ExecuteTime": {
     "end_time": "2018-04-26T17:28:02.830416Z",
     "start_time": "2018-04-26T17:28:02.824245Z"
    }
   },
   "outputs": [],
   "source": [
    "def plot_column(column):\n",
    "    fig = plt.figure(figsize=(8,8), dpi=100)\n",
    "    df.sort_values(column, inplace=True)\n",
    "    height = df[column].values\n",
    "    height.sort()\n",
    "    ax = fig.add_subplot(111)\n",
    "    ax.bar(df.index, height, color='r')\n",
    "    ax.set_axisbelow(True)\n",
    "    plt.grid(axis='y')\n",
    "    plt.xticks(rotation=90)\n",
    "    plt.title(column + ' per sample')\n",
    "    plt.savefig(column + '.png', bbox_inches='tight')\n",
    "\n",
    "    plt.show()"
   ]
  },
  {
   "cell_type": "code",
   "execution_count": 4,
   "metadata": {
    "ExecuteTime": {
     "end_time": "2018-04-26T17:28:04.510203Z",
     "start_time": "2018-04-26T17:28:03.838529Z"
    }
   },
   "outputs": [
    {
     "data": {
      "image/png": "[encoded data removed]",
      "text/plain": [
       "<Figure size 800x800 with 1 Axes>"
      ]
     },
     "metadata": {},
     "output_type": "display_data"
    }
   ],
   "source": [
    "plot_column(\"observations\")"
   ]
  },
  {
   "cell_type": "code",
   "execution_count": 5,
   "metadata": {
    "ExecuteTime": {
     "end_time": "2018-04-26T17:28:05.285188Z",
     "start_time": "2018-04-26T17:28:04.622223Z"
    }
   },
   "outputs": [
    {
     "data": {
      "image/png": "[encoded data removed]",
      "text/plain": [
       "<Figure size 800x800 with 1 Axes>"
      ]
     },
     "metadata": {},
     "output_type": "display_data"
    }
   ],
   "source": [
    "plot_column('unique')"
   ]
  },
  {
   "cell_type": "code",
   "execution_count": 6,
   "metadata": {
    "ExecuteTime": {
     "end_time": "2018-04-26T17:28:06.018572Z",
     "start_time": "2018-04-26T17:28:05.308190Z"
    }
   },
   "outputs": [
    {
     "data": {
      "image/png": "[encoded data removed]",
      "text/plain": [
       "<Figure size 800x800 with 1 Axes>"
      ]
     },
     "metadata": {},
     "output_type": "display_data"
    }
   ],
   "source": [
    "plot_column('uniqueness')"
   ]
  },
  {
   "cell_type": "code",
   "execution_count": null,
   "metadata": {},
   "outputs": [],
   "source": []
  },
  {
   "cell_type": "code",
   "execution_count": null,
   "metadata": {},
   "outputs": [],
   "source": []
  }
 ],
 "metadata": {
  "hide_input": false,
  "kernelspec": {
   "display_name": "Python 3",
   "language": "python",
   "name": "python3"
  },
  "language_info": {
   "codemirror_mode": {
    "name": "ipython",
    "version": 3
   },
   "file_extension": ".py",
   "mimetype": "text/x-python",
   "name": "python",
   "nbconvert_exporter": "python",
   "pygments_lexer": "ipython3",
   "version": "3.6.4"
  },
  "varInspector": {
   "cols": {
    "lenName": 16,
    "lenType": 16,
    "lenVar": 40
   },
   "kernels_config": {
    "python": {
     "delete_cmd_postfix": "",
     "delete_cmd_prefix": "del ",
     "library": "var_list.py",
     "varRefreshCmd": "print(var_dic_list())"
    },
    "r": {
     "delete_cmd_postfix": ") ",
     "delete_cmd_prefix": "rm(",
     "library": "var_list.r",
     "varRefreshCmd": "cat(var_dic_list()) "
    }
   },
   "types_to_exclude": [
    "module",
    "function",
    "builtin_function_or_method",
    "instance",
    "_Feature"
   ],
   "window_display": false
  }
 },
 "nbformat": 4,
 "nbformat_minor": 2
}
